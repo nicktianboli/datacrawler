{
 "cells": [
  {
   "cell_type": "code",
   "execution_count": 1,
   "metadata": {
    "collapsed": false
   },
   "outputs": [],
   "source": [
    "import twitter\n",
    "import json"
   ]
  },
  {
   "cell_type": "code",
   "execution_count": 2,
   "metadata": {
    "collapsed": false
   },
   "outputs": [],
   "source": [
    "api = twitter.Api(consumer_key='xITCo7ggiRehaEiWP1Oy23Sfl',\n",
    "                  consumer_secret='GjCsrgTbPKPeWXUIwFzHvrdXrCLur3en67awxHbHVBD5u4f0XP',\n",
    "                  access_token_key='2369848692-kcMAn9RySj6eeJ21dVgEN7Ul94nvo5Y6Wf1AVdI',\n",
    "                  access_token_secret='gxVuPmIWgY26Dkl3JT6l5bdWob8l3HSMZAKCdCjsddrSI')"
   ]
  },
  {
   "cell_type": "code",
   "execution_count": 3,
   "metadata": {
    "collapsed": true
   },
   "outputs": [],
   "source": [
    "results = api.GetSearch(raw_query=\"q=CHINA%20&result_type=recent&count=100\")"
   ]
  },
  {
   "cell_type": "code",
   "execution_count": 7,
   "metadata": {
    "collapsed": false,
    "scrolled": true
   },
   "outputs": [
    {
     "data": {
      "text/plain": [
       "[Status(ID=955665182335750145, ScreenName=exo_eel, Created=Tue Jan 23 04:55:09 +0000 2018, Text=u'RT @ZhangMaria8: @yoongi127 Oh and to top all his musical skills he is also an actor, model, MC, the King of China and the most important h\\u2026'),\n",
       " Status(ID=955665181933293568, ScreenName=Nadienuncasabe, Created=Tue Jan 23 04:55:09 +0000 2018, Text=u'@XHNews El \"GRIFO\"de China...'),\n",
       " Status(ID=955665179970334726, ScreenName=OliviaC37298207, Created=Tue Jan 23 04:55:08 +0000 2018, Text=u\"Swedish bookseller Gui Minhai 'abducted' by Chinese agents https://t.co/RQAc42NOkt\"),\n",
       " Status(ID=955665179353735168, ScreenName=DLatAC, Created=Tue Jan 23 04:55:08 +0000 2018, Text=u\"RT @laurimyllyvirta: Tsinghua researchers: China's coal consumption has peaked\\nhttps://t.co/lk52B6rNHk\"),\n",
       " Status(ID=955665177827004416, ScreenName=realikamusume, Created=Tue Jan 23 04:55:08 +0000 2018, Text=u'RT @TheLastRefuge2: President Trump and USTR Lighthizer Levy Tariffs on China (Solar Cells) and South Korea (Samsung Washing Machines)\\u2026 htt\\u2026'),\n",
       " Status(ID=955665173020372992, ScreenName=AndyBacker, Created=Tue Jan 23 04:55:07 +0000 2018, Text=u\"China's Really Big Air Purifier Actually Seems To Work! https://t.co/UgReTpy9cI\"),\n",
       " Status(ID=955665169882923009, ScreenName=enricoo20, Created=Tue Jan 23 04:55:06 +0000 2018, Text=u'RT @WSJ: A Black Monday for some stocks linked to China\\u2019s HNA Group https://t.co/IWCi1h1gdc'),\n",
       " Status(ID=955665169211834368, ScreenName=joshfeola, Created=Tue Jan 23 04:55:06 +0000 2018, Text=u\"RT @alta_sh: China banning hip-hop on TV really isn't that surprising\"),\n",
       " Status(ID=955665166905102336, ScreenName=pissedoffctdem, Created=Tue Jan 23 04:55:05 +0000 2018, Text=u'@mmfa This isn\\u2019t the Soviet Union, North Korea, Iran, China, or 1930s Germany, so no, we won\\u2019t be doing that, thanks.'),\n",
       " Status(ID=955665162886823937, ScreenName=BbMayumi1, Created=Tue Jan 23 04:55:04 +0000 2018, Text=u'https://t.co/AoQFNLj5XF https://t.co/S6qxjwlWbO'),\n",
       " Status(ID=955665161305538560, ScreenName=robinsnoticias, Created=Tue Jan 23 04:55:04 +0000 2018, Text=u'\"#Tecnologia #Noticias: China planea industrializar tecnolog\\xeda de veh\\xedculos inteligentes\": https://t.co/MgkU9B3iFr'),\n",
       " Status(ID=955665160420691968, ScreenName=Dioses_Futbol, Created=Tue Jan 23 04:55:04 +0000 2018, Text=u'La broma pesada de Ezequiel Lavezzi que hizo enfadar a un ni\\xc3\\xb1o en China https://t.co/oiLITVRdmY #20m'),\n",
       " Status(ID=955665159879446531, ScreenName=jacqulinetan, Created=Tue Jan 23 04:55:04 +0000 2018, Text=u'finished one of the books I had bought last week: this census taker by china mieville'),\n",
       " Status(ID=955665157983629313, ScreenName=botella_roberto, Created=Tue Jan 23 04:55:03 +0000 2018, Text=u'RT @garciabanchs: China y Rusia juntos no invierten la mitad de lo que invierte EEUU en su Fuerza Armada. Si eso lo acumulas en los \\xfaltimos\\u2026'),\n",
       " Status(ID=955665157090258945, ScreenName=dollarsigncoups, Created=Tue Jan 23 04:55:03 +0000 2018, Text=u'RT @STcom: #China online quiz craze lures prize seekers, tech giants https://t.co/Z2z3M02hMY https://t.co/ZwORaw6jAx'),\n",
       " Status(ID=955665155148300288, ScreenName=stephen_whitemn, Created=Tue Jan 23 04:55:03 +0000 2018, Text=u'RT @MongolsSilkRoad: Exhibition titled \\u201cFrench Sinologists in China\\u201d (Pelliot, Chavannes, Segalen) in Shanghai\\nhttps://t.co/LCHzVSoWex http\\u2026'),\n",
       " Status(ID=955665154812805120, ScreenName=xchxnbxek, Created=Tue Jan 23 04:55:02 +0000 2018, Text=u'RT @FaithfullyAeris: [RNDM] Aprendiendo con ExoL: Los inicios de EXO \\n\\n8/3/2012: Se revela el segundo MV y sencillo pr\\xf3logo \"History\".\\nDebu\\u2026'),\n",
       " Status(ID=955665152602451968, ScreenName=smartcityfeed, Created=Tue Jan 23 04:55:02 +0000 2018, Text=u\"RT @IngemarAhlgren: This 'Smart City' in China Is Controlled By An Artificial Intelligence via @IFLScience: https://t.co/vNk7lGpt9K\"),\n",
       " Status(ID=955665146080186368, ScreenName=katagirinoboru, Created=Tue Jan 23 04:55:00 +0000 2018, Text=u'\\u4e2d\\u56fd\\u306e\\u6cbb\\u5b89\\u306e\\u60aa\\u3055\\u3092\\u5b9f\\u611f\\u3057\\u305f\\u4e8b\\u4ef6 \\u2192\\u2192https://t.co/w9epgSrP74'),\n",
       " Status(ID=955665145983832065, ScreenName=RufiNighat, Created=Tue Jan 23 04:55:00 +0000 2018, Text=u'RT @kurup62: World Economic Forum ranks India at 62nd place on Inclusive Development Index among emerging economies.\\nChina is 28th\\nPakistan\\u2026'),\n",
       " Status(ID=955665142099914752, ScreenName=MiraclesArt, Created=Tue Jan 23 04:54:59 +0000 2018, Text=u'RT @msfreedom1123: Miller should be fired. He has no security clearance, and he is receiving Intel Reports. This has to stop. What is wrong\\u2026'),\n",
       " Status(ID=955665139579015170, ScreenName=kucotomy, Created=Tue Jan 23 04:54:59 +0000 2018, Text=u\"Swedish bookseller Gui Minhai 'abducted' by Chinese agents https://t.co/6ynoNWBQXN\"),\n",
       " Status(ID=955665138375303168, ScreenName=kucotomy, Created=Tue Jan 23 04:54:59 +0000 2018, Text=u\"China blasts Trump's new trade tariffs https://t.co/jJkRibYV4M\"),\n",
       " Status(ID=955665136349601792, ScreenName=BostonMaggie, Created=Tue Jan 23 04:54:58 +0000 2018, Text=u'RT @batchelorshow: US Navy pushed China back on Scarborough Shoals. James Holmes, @NavalWarCollege @GordonGChang @The... https://t.co/6VxLw\\u2026'),\n",
       " Status(ID=955665134482898944, ScreenName=shailesh51087, Created=Tue Jan 23 04:54:58 +0000 2018, Text=u'RT @sanjivbhatt: Economy in doldrums, China in Doklam, Job Creation at a 8 year low, Hate Crimes at an all time high, Fanatics having a fre\\u2026'),\n",
       " Status(ID=955665133090627584, ScreenName=tombuchanan271, Created=Tue Jan 23 04:54:57 +0000 2018, Text=u\"RT @Echinanews: #NewsExpress\\n-#CPC must lead in political, legal area, #Xi says\\n-#Davos' theme in sync with China's policies\\n-Japan's #Abe\\u2026\"),\n",
       " Status(ID=955665129911103489, ScreenName=sreercm, Created=Tue Jan 23 04:54:57 +0000 2018, Text=u'@taran_adarsh Magic of amir khan started again. This time it will be another 2000cr. Don\\u2019t understood why indians a\\u2026 https://t.co/8vf47UmzGp'),\n",
       " Status(ID=955665129810534400, ScreenName=vivekbhatt04, Created=Tue Jan 23 04:54:57 +0000 2018, Text=u'RT @taran_adarsh: #SecretSuperstar has a SPLENDID Mon in China... Crosses \\u20b9 200 cr in 4 days... The trending is SUPERB...\\nFri $ 6.89 mn\\nSat\\u2026'),\n",
       " Status(ID=955665125972692992, ScreenName=Iqbal55663, Created=Tue Jan 23 04:54:56 +0000 2018, Text=u'RT @SanjayAzadSln: \\u092a\\u094d\\u0930\\u0927\\u093e\\u0928\\u092e\\u0902\\u0924\\u094d\\u0930\\u0940 \\u091c\\u0940 \\u0928\\u0947 \\u0926\\u0947\\u0936 \\u092e\\u0947\\u0902 \\u0915\\u0948\\u0938\\u093e \\u0906\\u0930\\u094d\\u0925\\u093f\\u0915 \\u0935\\u093f\\u0915\\u093e\\u0938 \\u0915\\u093f\\u092f\\u093e \\u0939\\u0948 \\u0915\\u0940 \\u0939\\u092e \\u092a\\u093e\\u0915\\u093f\\u0938\\u094d\\u0924\\u093e\\u0928 \\u0938\\u0947 \\u092d\\u0940 \\u092a\\u093f\\u091b\\u0921\\u093c \\u0917\\u092f\\u0947? \\u0930\\u093e\\u0937\\u094d\\u091f\\u094d\\u0930 \\u0906\\u0930\\u094d\\u0925\\u093f\\u0915 \\u0938\\u0902\\u0915\\u091f \\u0915\\u0947 \\u0926\\u094c\\u0930 \\u0938\\u0947 \\u0917\\u0941\\u091c\\u093c\\u2026'),\n",
       " Status(ID=955665125238820864, ScreenName=mb4uli, Created=Tue Jan 23 04:54:55 +0000 2018, Text=u'Natalie Tong Thankful for Tony Hung\\u2019s Encouragement https://t.co/aqlFFbnY3D https://t.co/LyOuWIOsSe'),\n",
       " Status(ID=955665123988856832, ScreenName=stephen_whitemn, Created=Tue Jan 23 04:54:55 +0000 2018, Text=u'RT @HelenWangLondon: \\u201dInventing the \\u2018Foreignized\\u2019 Chinese Carpet in Treaty-port Tianjin, China\\u201d by @ejlacouture https://t.co/HykMVjPod7 htt\\u2026'),\n",
       " Status(ID=955665123707965440, ScreenName=handymayhem, Created=Tue Jan 23 04:54:55 +0000 2018, Text=u'China Bans Hip Hop Culture from TV. China did nothing wrong https://t.co/JPiAOHkTji via @YouTube'),\n",
       " Status(ID=955665119878549504, ScreenName=McfarlandErnie, Created=Tue Jan 23 04:54:54 +0000 2018, Text=u'RT @mike_Zollo: Do you know Trump fined China and Canada $2 Billion for illegal trade practices? Do you know Trump is renogiating the trade\\u2026'),\n",
       " Status(ID=955665119807090688, ScreenName=atropos, Created=Tue Jan 23 04:54:54 +0000 2018, Text=u'RT @WSJ: A Black Monday for some stocks linked to China\\u2019s HNA Group https://t.co/IWCi1h1gdc'),\n",
       " Status(ID=955665118716678144, ScreenName=Aguus_Cardozzo, Created=Tue Jan 23 04:54:54 +0000 2018, Text=u'RT @VatuCangiano: ODIO A LA CHINA SU\\xc1REZ https://t.co/KgEtassgPh'),\n",
       " Status(ID=955665118368489472, ScreenName=mmyattmyatt, Created=Tue Jan 23 04:54:54 +0000 2018, Text=u\"15. The China Syndrome\\n\\nMaybe if I watched it 30 years ago it wouldn't have felt as dated, but it was so distractin\\u2026 https://t.co/RMvjnhNGnj\"),\n",
       " Status(ID=955665116736958464, ScreenName=Sofilop02, Created=Tue Jan 23 04:54:53 +0000 2018, Text=u'@Alduromero_ mi gorda bella la mina m\\xe1s segundera, si queres ir a China no tiene drama.\\nno voy a mentir me cae re b\\u2026 https://t.co/25rmnX3owJ'),\n",
       " Status(ID=955665115092832257, ScreenName=mb4uli, Created=Tue Jan 23 04:54:53 +0000 2018, Text=u'Dong Jie, Xin Zhilei, Li Chun, Hu Ke in Ruyi-themed photo shoot for Bazaar https://t.co/jzxMVc1a1F https://t.co/FkHXbGFd75'),\n",
       " Status(ID=955665114220212224, ScreenName=anna_mazzone, Created=Tue Jan 23 04:54:53 +0000 2018, Text=u'RT @AndreaPira: Dal discorso di Wang Jianlin all\\'annuale assemblea di Wanda: \"Guided by the 19th National Congress of the Communist Party o\\u2026'),\n",
       " Status(ID=955665112836145152, ScreenName=KellyRek, Created=Tue Jan 23 04:54:52 +0000 2018, Text=u'RT @Old_Bern_Kenobi: DNC probably chose McAuliffe for his talent funneling illegal donations from China https://t.co/7mU044uI02 https://t.c\\u2026'),\n",
       " Status(ID=955665106381295618, ScreenName=Beingnaimyasin, Created=Tue Jan 23 04:54:51 +0000 2018, Text=u'RT @taran_adarsh: #SecretSuperstar has a SPLENDID Mon in China... Crosses \\u20b9 200 cr in 4 days... The trending is SUPERB...\\nFri $ 6.89 mn\\nSat\\u2026'),\n",
       " Status(ID=955665104875413504, ScreenName=ItalyinShanghai, Created=Tue Jan 23 04:54:51 +0000 2018, Text=u'RT @EttoreSequi: Con Jack Ma e altri grandi imprenditori cinesi c\\u2019\\xe8 anche \\U0001f1ee\\U0001f1f9 alla serata annuale del China Entrepreneur Club, associazione\\u2026'),\n",
       " Status(ID=955665102358892544, ScreenName=LollywoodSS, Created=Tue Jan 23 04:54:50 +0000 2018, Text=u'Its sad that no Pakistani film is making its way to #China ... After #Aamirkhan . Salman Khan debuts in China..\\u2026 https://t.co/Mcp4o8ZmxE'),\n",
       " Status(ID=955665099238379522, ScreenName=LollywoodSS, Created=Tue Jan 23 04:54:49 +0000 2018, Text=u'Its sad that no Pakistani film is making its way to #China ... After #Aamirkhan . #SalmanKhan debuts in China Our f\\u2026 https://t.co/NVOLDuJqWY'),\n",
       " Status(ID=955665097766170624, ScreenName=DLatAC, Created=Tue Jan 23 04:54:49 +0000 2018, Text=u\"RT @axios: .@vsiv: Trump's solar tariffs won't bring back manufacturing from China\\nhttps://t.co/UxUPPEb9hD\"),\n",
       " Status(ID=955665097103470592, ScreenName=jimmycabezasd, Created=Tue Jan 23 04:54:49 +0000 2018, Text=u'RT @Twittofilia: \\xbfMillonarios y comunistas? As\\xed viven en Huaxi, la ciudad m\\xe1s rica de China #Mundo https://t.co/kP8ltGqzQs'),\n",
       " Status(ID=955665095102644226, ScreenName=AbleDart, Created=Tue Jan 23 04:54:48 +0000 2018, Text=u'With the US warning of a possible war with North Korea, Washington allies in Asia are sounding the alarm on another\\u2026 https://t.co/KcHE35GDeL'),\n",
       " Status(ID=955665095023058944, ScreenName=anisaz9_basit, Created=Tue Jan 23 04:54:48 +0000 2018, Text=u\"RT @sardesairajdeep: IMF gives India thumbs up on growth, WEF ranks us 62 out of 79 emerging economies on 'inclusive' development, even beh\\u2026\"),\n",
       " Status(ID=955665090430291968, ScreenName=BaylenMiller, Created=Tue Jan 23 04:54:47 +0000 2018, Text=u'RT @SatchinPanda: Prof. Ying Xu of Soochow University, China models human circadian defects in mice to understand mechanism. She discovered\\u2026'),\n",
       " Status(ID=955665084474380294, ScreenName=RyanDomingue, Created=Tue Jan 23 04:54:46 +0000 2018, Text=u'tricked into sex stories china sex games https://t.co/j2Hip91JQB'),\n",
       " Status(ID=955665082867961857, ScreenName=tedhu, Created=Tue Jan 23 04:54:45 +0000 2018, Text=u'China invites Latin America to take part in One Belt, One Road https://t.co/gYJHgYdqRS'),\n",
       " Status(ID=955665080128950273, ScreenName=HanFeiTzu, Created=Tue Jan 23 04:54:45 +0000 2018, Text=u'RT @PeterMartin_PCM: Cool graphic from this @tshinflux story on how China has stepped up naval and air force excursions into the Western Pa\\u2026'),\n",
       " Status(ID=955665075087425536, ScreenName=Crispin1Ramon, Created=Tue Jan 23 04:54:43 +0000 2018, Text=u'RT @cgtnenespanol: V\\xeddeo de #China: #Panda estrella Nuan Nuan se ba\\xf1a y juega con el agua. https://t.co/0zKpAYvmEY'),\n",
       " Status(ID=955665069500698624, ScreenName=bjphitenbhatt, Created=Tue Jan 23 04:54:42 +0000 2018, Text=u\"India to grow at 7.4% in 2018 as against China's 6.8%: IMF at WEF in Davos\\n https://t.co/pxVTR9vFjX\\n\\nvia NMApp https://t.co/RbA6N5VFWb\"),\n",
       " Status(ID=955665061971988480, ScreenName=dnathegroup, Created=Tue Jan 23 04:54:40 +0000 2018, Text=u'Finance news from mainland China for our clients Indonesian fintech start-up Mekar eyes potential venture capital f\\u2026 https://t.co/rY7XdZINOe'),\n",
       " Status(ID=955665061233635328, ScreenName=animalonly, Created=Tue Jan 23 04:54:40 +0000 2018, Text=u'RT @Cat_Kapow: \\U0001f1e8\\U0001f1f1#Chile is hosting #China this week for #CELACChina .@CELAC \\n.@SantiagoTimes What #Chile can learn from #SriLanka - How #Sr\\u2026'),\n",
       " Status(ID=955665060390580224, ScreenName=2008to1208, Created=Tue Jan 23 04:54:40 +0000 2018, Text=u'RT @Sankei_news: \\u3059\\u3067\\u306b\\u5236\\u5fa1\\u4e0d\\u80fd\\u304b\\u3000\\uff23\\uff28\\uff29\\uff2e\\uff21\\u521d\\u306e\\u7121\\u4eba\\u5b87\\u5b99\\u5b9f\\u9a13\\u5ba4\\u3000\\u5317\\u6d77\\u9053\\u5357\\u90e8\\u3001\\u6771\\u5317\\u306b\\u300c\\uff13\\u6708\\u843d\\u4e0b\\u53ef\\u80fd\\u6027\\u9ad8\\u3044\\u300d https://t.co/TYasuuldnA'),\n",
       " Status(ID=955665057798434816, ScreenName=agating9797, Created=Tue Jan 23 04:54:39 +0000 2018, Text=u'RT @QogBazar: A weak wild deer was found in Yumin county,China\\u2019s Xinjiang.After professional health examination,this little deer is enjoyin\\u2026'),\n",
       " Status(ID=955665054334050304, ScreenName=jaakash2004, Created=Tue Jan 23 04:54:39 +0000 2018, Text=u'RT @msisodia: \\u0926\\u093e\\u0935\\u094b\\u0938 \\u0938\\u0947 \\u092c\\u0940\\u091c\\u0947\\u092a\\u0940-\\u091a\\u093e\\u0932\\u0940\\u0938\\u093e \\u092e\\u0947\\u0902 \\u0921\\u0942\\u092c\\u0947 \\u0917\\u094b\\u0926\\u0940 \\u092e\\u0940\\u0921\\u093f\\u092f\\u093e \\u0915\\u093e \\u0915\\u094b\\u0908 \\u092a\\u0924\\u094d\\u0930\\u0915\\u093e\\u0930 \\u0906\\u092a\\u0915\\u094b \\u092f\\u0939 \\u0916\\u092c\\u0930 \\u0926\\u093f\\u0916\\u093e\\u0928\\u0947 \\u0915\\u0940 \\u0939\\u093f\\u092e\\u094d\\u092e\\u0924 \\u0928\\u0939\\u0940\\u0902 \\u091c\\u0941\\u091f\\u093e \\u092a\\u093e\\u092f\\u0947\\u0917\\u093e\\u0964 \\n\\nHours before Modi\\u2026'),\n",
       " Status(ID=955665050982912000, ScreenName=AllyssaBackwell, Created=Tue Jan 23 04:54:38 +0000 2018, Text=u'RT @fireonher: CHINA ANNE VOC\\xca \\xc9 TALENTOSA PRA CARALHO'),\n",
       " Status(ID=955665050370433024, ScreenName=redwhirl11, Created=Tue Jan 23 04:54:38 +0000 2018, Text=u'RT @theneedledrop: Oh man: https://t.co/tP98AQkuCX'),\n",
       " Status(ID=955665050181578753, ScreenName=Amy_M_Ryan, Created=Tue Jan 23 04:54:38 +0000 2018, Text=u'@HealingMB Please do not support or spread this video. It was found to be from a tiger farm in China.'),\n",
       " Status(ID=955665048906551296, ScreenName=Ems5Lanie, Created=Tue Jan 23 04:54:37 +0000 2018, Text=u'RT @RedTRaccoon: Jared Kushner Is China\\u2019s Trump Card\\n\\nHow the President\\u2019s son-in-law, despite his inexperience in diplomacy, became Beijing\\u2026'),\n",
       " Status(ID=955665047170117632, ScreenName=chicken1banana, Created=Tue Jan 23 04:54:37 +0000 2018, Text=u\"RT @SCMP_News: 'Can I stew and eat him?': the disturbing exchange between a Chinese 'dognapper' and a corgi's owner. It ended in tragedy. h\\u2026\"),\n",
       " Status(ID=955665045974786048, ScreenName=Kevinsevenup, Created=Tue Jan 23 04:54:37 +0000 2018, Text=u'#China \\U0001f609 https://t.co/k2i2xscpSC'),\n",
       " Status(ID=955665041617014784, ScreenName=pricill52416771, Created=Tue Jan 23 04:54:35 +0000 2018, Text=u'RT @euavh: All sorrows by heart and soul for the death of 32 crew members of an #Iranian #oil #tanker #Sanchi has been on fire off the coas\\u2026'),\n",
       " Status(ID=955665032792231936, ScreenName=tovishalck_pol, Created=Tue Jan 23 04:54:33 +0000 2018, Text=u'RT @ANINewsUP: Allahabad: Wreath laying ceremony of Maj FKK Sircar, who passed away at the age of 101 years. He had served during the World\\u2026'),\n",
       " Status(ID=955665030141358080, ScreenName=madzsexton, Created=Tue Jan 23 04:54:33 +0000 2018, Text=u'RT @calvinyote: @JalenHurts my favorite state volleyball champ @lane_china needs a date for her senior prom!'),\n",
       " Status(ID=955665029717745665, ScreenName=GreenGirlAfrica, Created=Tue Jan 23 04:54:33 +0000 2018, Text=u'RT @ConsActionTrust: Scientists and conservationists plea with Zim to keep African elephants in the wild, on African soil, and not subject\\u2026'),\n",
       " Status(ID=955665027293331456, ScreenName=iRakShan_, Created=Tue Jan 23 04:54:32 +0000 2018, Text=u'RT @SurendharMK: AAMIR KING OF BOXOFFICE\\n\\nAt 930 PM China time, #SecretSuperstar has grossed $9.2M at the box-office on day three. Total th\\u2026'),\n",
       " Status(ID=955665023568957440, ScreenName=jidian55, Created=Tue Jan 23 04:54:31 +0000 2018, Text=u\"RT @JeremiahJenne: Ulysses S. Grant was the first president to visit China, and in 1879 sat down with Qing \\xfcber-official Li Hongzhang. It's\\u2026\"),\n",
       " Status(ID=955665022679740421, ScreenName=Remdog1998, Created=Tue Jan 23 04:54:31 +0000 2018, Text=u\"RT @PressTV: 'Putin and Xi dashed US hopes of maintaining global hegemony' https://t.co/XwqVyYCiLg https://t.co/yD8uO8JzLz\"),\n",
       " Status(ID=955665021203304449, ScreenName=32bEKwnrzOWgf8g, Created=Tue Jan 23 04:54:31 +0000 2018, Text=u\"Swedish bookseller Gui Minhai 'abducted' by Chinese agents https://t.co/qqZ2psdfcY\"),\n",
       " Status(ID=955665018959179776, ScreenName=bigmac88, Created=Tue Jan 23 04:54:30 +0000 2018, Text=u\"'Trust barometer' finds 37-point implosion in US public's trust in institution as China's score soars\\u2026 https://t.co/UsnK3J89wj\"),\n",
       " Status(ID=955665018284072960, ScreenName=HipHopTalkx, Created=Tue Jan 23 04:54:30 +0000 2018, Text=u\"@m_almoayed SHAME ON THE WORLD! Shame! Shame! Shame on you #UnitedStates #SaudiArabia #Israel You 3 are the World's\\u2026 https://t.co/j43P5lUl03\"),\n",
       " Status(ID=955665015968706561, ScreenName=iRakShan_, Created=Tue Jan 23 04:54:29 +0000 2018, Text=u'RT @taran_adarsh: The tremendous goodwill that #Dangal - and prior to that #PK - created in China has benefited #SecretSuperstar... Althoug\\u2026'),\n",
       " Status(ID=955665011451445251, ScreenName=me060943, Created=Tue Jan 23 04:54:28 +0000 2018, Text=u'@MaddowBlog I hope Kushner and Evanka have made plans who is going to take care of their children while their in ja\\u2026 https://t.co/szTITQ81AK'),\n",
       " Status(ID=955665011040444416, ScreenName=kimi3636j, Created=Tue Jan 23 04:54:28 +0000 2018, Text=u'@china__s \\u30a2\\u30ef\\u30a2\\u30ef(p\\u0434q\\uff40\\uff61)\\u3084\\u3063\\u3061\\u3083\\u3044\\u307e\\u3057\\u305f\\u306d'),\n",
       " Status(ID=955665010117705728, ScreenName=70c5891212324f2, Created=Tue Jan 23 04:54:28 +0000 2018, Text=u'RT @CancilleriaVE: Movimientos sociales de Chile reafirman respaldo a la Revoluci\\xf3n Bolivariana. #Celac #China #Chile https://t.co/CZ2WsxGc\\u2026'),\n",
       " Status(ID=955665008356151297, ScreenName=ankokunoouji51, Created=Tue Jan 23 04:54:28 +0000 2018, Text=u'\\u3010\\u4e2d\\u56fd\\u30a6\\u30aa\\u30c3\\u30c1\\u3011\\uff23\\uff28\\uff29\\uff2e\\uff21\\u521d\\u306e\\u7121\\u4eba\\u5b87\\u5b99\\u5b9f\\u9a13\\u5ba4\\u3000\\u5317\\u6d77\\u9053\\u5357\\u90e8\\u3001\\u6771\\u5317\\u300c\\uff13\\u6708\\u843d\\u4e0b\\u53ef\\u80fd\\u6027\\u9ad8\\u3044\\u300d\\u3000\\u3059\\u3067\\u306b\\u5236\\u5fa1\\u4e0d\\u80fd\\u304b\\u3000\\u4e2d\\u56fd\\u306f\\u53cd\\u8ad6 https://t.co/lscFIseqmC'),\n",
       " Status(ID=955665005428527104, ScreenName=__brookxo, Created=Tue Jan 23 04:54:27 +0000 2018, Text=u'RT @BroderickHunter: @RoneJae Exhibit A:\\n\\nLook at me. Nice, dapper. An essence that would make your grandmother bake a pound cake and Your\\u2026'),\n",
       " Status(ID=955664995228020736, ScreenName=althuabc, Created=Tue Jan 23 04:54:24 +0000 2018, Text=u'@harishsuriya @akshay14793 @Suriya_offl @StudioGreen2 @2D_ENTPVTLTD Remake it with aamirkhan.. Release in china.. I\\u2026 https://t.co/ZYXWIpVhPV'),\n",
       " Status(ID=955664992283570176, ScreenName=china_kitten, Created=Tue Jan 23 04:54:24 +0000 2018, Text=u'RT @zapvv: \\u0414\\u043e \\u0431\\u043b\\u0435\\u0432\\u043e\\u0442\\u044b. \\U0001f92e\\n\\u0412 \\xab\\u0433\\u043e\\u043b\\u0443\\u0431\\u043e\\u043c\\xbb \\u0432\\u0435\\u0440\\u0442\\u043e\\u043b\\u0435\\u0442\\u0435. \\u0412 \\u0430\\u0440\\u043c\\u0438\\u0438 \\u0421\\u0428\\u0410 \\u0441\\u043e\\u0441\\u0442\\u043e\\u044f\\u043b\\u0430\\u0441\\u044c \\u043f\\u0435\\u0440\\u0432\\u0430\\u044f \\u043e\\u0444\\u0438\\u0446\\u0435\\u0440\\u0441\\u043a\\u0430\\u044f \\u0433\\u0435\\u0439-\\u0441\\u0432\\u0430\\u0434\\u044c\\u0431\\u0430. \\u041f\\u0438\\u043b\\u043e\\u0442\\u044b \\u0432\\u0435\\u0440\\u0442\\u043e\\u043b\\u0435\\u0442\\u0430 Apache \\u043d\\u0430\\u0448\\u043b\\u0438 \\u0441\\u0432\\u043e\\u0435 \\u0441\\u0447\\u2026'),\n",
       " Status(ID=955664989326426112, ScreenName=lpnevada, Created=Tue Jan 23 04:54:23 +0000 2018, Text=u'@michaeladonald @Comassion @RobertBentley76 @nsarwark @JasonGSmithorg @ToddHagopian @LPCO @Liberty_Thunder\\u2026 https://t.co/5lMzMq6TTh'),\n",
       " Status(ID=955664985979543553, ScreenName=verito_mata, Created=Tue Jan 23 04:54:22 +0000 2018, Text=u'RT @FaithfullyAeris: [RNDM] Aprendiendo con ExoL: Los inicios de EXO \\n\\n8/3/2012: Se revela el segundo MV y sencillo pr\\xf3logo \"History\".\\nDebu\\u2026'),\n",
       " Status(ID=955664983928356864, ScreenName=NesharAlam11, Created=Tue Jan 23 04:54:22 +0000 2018, Text=u'RT @taran_adarsh: #SecretSuperstar has a SPLENDID Mon in China... Crosses \\u20b9 200 cr in 4 days... The trending is SUPERB...\\nFri $ 6.89 mn\\nSat\\u2026'),\n",
       " Status(ID=955664983731384330, ScreenName=annejonesmn, Created=Tue Jan 23 04:54:22 +0000 2018, Text=u'RT @NWPinPDX: Chinese officials were heard saying that #JaredKushner was known to have brought up #Kushner family business matters along wi\\u2026'),\n",
       " Status(ID=955664980593999877, ScreenName=Force141Task, Created=Tue Jan 23 04:54:21 +0000 2018, Text=u'RT @Sankei_news: \\u3059\\u3067\\u306b\\u5236\\u5fa1\\u4e0d\\u80fd\\u304b\\u3000\\uff23\\uff28\\uff29\\uff2e\\uff21\\u521d\\u306e\\u7121\\u4eba\\u5b87\\u5b99\\u5b9f\\u9a13\\u5ba4\\u3000\\u5317\\u6d77\\u9053\\u5357\\u90e8\\u3001\\u6771\\u5317\\u306b\\u300c\\uff13\\u6708\\u843d\\u4e0b\\u53ef\\u80fd\\u6027\\u9ad8\\u3044\\u300d https://t.co/TYasuuldnA'),\n",
       " Status(ID=955664978325000194, ScreenName=landomiles, Created=Tue Jan 23 04:54:20 +0000 2018, Text=u'1. Tariffs on solar have been in place since 2012\\n2. Since 2010 solar costs have dropped and the industry has conti\\u2026 https://t.co/4JDwcZrAWq'),\n",
       " Status(ID=955664973841092609, ScreenName=Mahiru04, Created=Tue Jan 23 04:54:19 +0000 2018, Text=u'RT @Sankei_news: \\u3059\\u3067\\u306b\\u5236\\u5fa1\\u4e0d\\u80fd\\u304b\\u3000\\uff23\\uff28\\uff29\\uff2e\\uff21\\u521d\\u306e\\u7121\\u4eba\\u5b87\\u5b99\\u5b9f\\u9a13\\u5ba4\\u3000\\u5317\\u6d77\\u9053\\u5357\\u90e8\\u3001\\u6771\\u5317\\u306b\\u300c\\uff13\\u6708\\u843d\\u4e0b\\u53ef\\u80fd\\u6027\\u9ad8\\u3044\\u300d https://t.co/TYasuuldnA'),\n",
       " Status(ID=955664973656596480, ScreenName=KathyHickman20, Created=Tue Jan 23 04:54:19 +0000 2018, Text=u'RT @KathyHickman20: @realDonaldTrump How much did you pay off the porn star you had an affair with?Why is Kushner in cahoots with China?  W\\u2026'),\n",
       " Status(ID=955664973488730112, ScreenName=gumdam_china, Created=Tue Jan 23 04:54:19 +0000 2018, Text=u'\\u4e0d\\u53ef\\u80fd\\u3092\\u53ef\\u80fd\\u306b\\u3059\\u308b\\u7537\\u304b\\u306a\\u3001\\u4ffa\\u306f\\u3002'),\n",
       " Status(ID=955664973249720320, ScreenName=wannurliyana94, Created=Tue Jan 23 04:54:19 +0000 2018, Text=u'RT @starbizmy: \\u201cMalaysia is richer than China per capita and is very close to become a high-income nation, the only way to sustain its grow\\u2026'),\n",
       " Status(ID=955664972872278016, ScreenName=BerrinAndro, Created=Tue Jan 23 04:54:19 +0000 2018, Text=u'This overreaction is not about the #USNavy.\\nIt\\u2019s in response to #SECDEF Mattis\\u2019 newly released national defense str\\u2026 https://t.co/dPQOOMIGEG'),\n",
       " Status(ID=955664970632413184, ScreenName=ikadanna, Created=Tue Jan 23 04:54:19 +0000 2018, Text=u'RT @wildwilly888: 80\\u5e74\\u524d\\u306b\\u77f3\\u6cb9\\u3068\\u304b\\u6b62\\u3081\\u306a\\u3044\\u3060\\u308d\\u3001\\u3068\\u305f\\u304b\\u3092\\u304f\\u304f\\u3063\\u305f\\u56fd\\u5bb6\\u3092\\u601d\\u3044\\u51fa\\u3059\\u3002\\n\\n\\u7126\\u70b9\\uff1a\\u8cbf\\u6613\\u6226\\u4e89\\u306b\\u767a\\u5c55\\u304b\\u3001\\u4e2d\\u56fd\\u304c\\u30c8\\u30e9\\u30f3\\u30d7\\u6c0f\\u306e\\u300c\\u672c\\u6c17\\u5ea6\\u300d\\u8efd\\u8996 | Article [AMP] | Reuters https://t.co/jH6ZDtkWPx'),\n",
       " Status(ID=955664964294815745, ScreenName=KarimAlkhafaji, Created=Tue Jan 23 04:54:17 +0000 2018, Text=u'Planning a trip to China and all my kids want to talk about is the different types of boba they can get!'),\n",
       " Status(ID=955664961572761601, ScreenName=sakurasaita429, Created=Tue Jan 23 04:54:16 +0000 2018, Text=u'RT @Sankei_news: \\u3059\\u3067\\u306b\\u5236\\u5fa1\\u4e0d\\u80fd\\u304b\\u3000\\uff23\\uff28\\uff29\\uff2e\\uff21\\u521d\\u306e\\u7121\\u4eba\\u5b87\\u5b99\\u5b9f\\u9a13\\u5ba4\\u3000\\u5317\\u6d77\\u9053\\u5357\\u90e8\\u3001\\u6771\\u5317\\u306b\\u300c\\uff13\\u6708\\u843d\\u4e0b\\u53ef\\u80fd\\u6027\\u9ad8\\u3044\\u300d https://t.co/TYasuuldnA'),\n",
       " Status(ID=955664960054444034, ScreenName=SwitchingTmprly, Created=Tue Jan 23 04:54:16 +0000 2018, Text=u'RT @HongKongFP: Sweden summons China ambassador after bookseller Gui Minhai reportedly seized from train in front of diplomats https://t.co\\u2026'),\n",
       " Status(ID=955664956971679746, ScreenName=AubreyStark416, Created=Tue Jan 23 04:54:15 +0000 2018, Text=u'RT @handymayhem: China Bans Hip Hop Culture from TV. China did nothing wrong: https://t.co/BafXFRUm1K via @YouTube'),\n",
       " Status(ID=955664955902234624, ScreenName=leidiSusu, Created=Tue Jan 23 04:54:15 +0000 2018, Text=u'RT @XHVXTabasco: #Video C\\xe1maras captan a un hombre que tira a su beb\\xe9 a la basura porque pens\\xf3 que hab\\xeda nacido con problemas de salud y no\\u2026')]"
      ]
     },
     "execution_count": 7,
     "metadata": {},
     "output_type": "execute_result"
    }
   ],
   "source": [
    "results"
   ]
  },
  {
   "cell_type": "code",
   "execution_count": 13,
   "metadata": {
    "collapsed": false
   },
   "outputs": [
    {
     "data": {
      "text/plain": [
       "100"
      ]
     },
     "execution_count": 13,
     "metadata": {},
     "output_type": "execute_result"
    }
   ],
   "source": [
    "results.__len__()"
   ]
  },
  {
   "cell_type": "code",
   "execution_count": 15,
   "metadata": {
    "collapsed": false
   },
   "outputs": [
    {
     "data": {
      "text/plain": [
       "Status(ID=955665401601515521, ScreenName=HipHopTalkx, Created=Tue Jan 23 04:56:01 +0000 2018, Text=u\"@m_almoayed SHAME ON THE WORLD! Shame! Shame! Shame on you #UnitedStates #SaudiArabia #Israel You 3 are the World's\\u2026 https://t.co/ouU7icHTej\")"
      ]
     },
     "execution_count": 15,
     "metadata": {},
     "output_type": "execute_result"
    }
   ],
   "source": [
    "results[0]"
   ]
  },
  {
   "cell_type": "code",
   "execution_count": 24,
   "metadata": {
    "collapsed": false
   },
   "outputs": [
    {
     "data": {
      "text/plain": [
       "{u'contributors': None,\n",
       " u'coordinates': None,\n",
       " u'created_at': u'Tue Jan 23 04:56:01 +0000 2018',\n",
       " u'entities': {u'hashtags': [{u'indices': [59, 72], u'text': u'UnitedStates'},\n",
       "   {u'indices': [73, 85], u'text': u'SaudiArabia'},\n",
       "   {u'indices': [86, 93], u'text': u'Israel'}],\n",
       "  u'symbols': [],\n",
       "  u'urls': [{u'display_url': u'twitter.com/i/web/status/9\\u2026',\n",
       "    u'expanded_url': u'https://twitter.com/i/web/status/955665401601515521',\n",
       "    u'indices': [117, 140],\n",
       "    u'url': u'https://t.co/ouU7icHTej'}],\n",
       "  u'user_mentions': [{u'id': 312262461,\n",
       "    u'id_str': u'312262461',\n",
       "    u'indices': [0, 11],\n",
       "    u'name': u'Mohamed A. Al-Moayed',\n",
       "    u'screen_name': u'm_almoayed'}]},\n",
       " u'favorite_count': 0,\n",
       " u'favorited': False,\n",
       " u'geo': None,\n",
       " u'id': 955665401601515521L,\n",
       " u'id_str': u'955665401601515521',\n",
       " u'in_reply_to_screen_name': u'm_almoayed',\n",
       " u'in_reply_to_status_id': 955571758039556096L,\n",
       " u'in_reply_to_status_id_str': u'955571758039556096',\n",
       " u'in_reply_to_user_id': 312262461,\n",
       " u'in_reply_to_user_id_str': u'312262461',\n",
       " u'is_quote_status': False,\n",
       " u'lang': u'en',\n",
       " u'metadata': {u'iso_language_code': u'en', u'result_type': u'recent'},\n",
       " u'place': None,\n",
       " u'retweet_count': 0,\n",
       " u'retweeted': False,\n",
       " u'source': u'<a href=\"http://twitter.com\" rel=\"nofollow\">Twitter Web Client</a>',\n",
       " u'text': u\"@m_almoayed SHAME ON THE WORLD! Shame! Shame! Shame on you #UnitedStates #SaudiArabia #Israel You 3 are the World's\\u2026 https://t.co/ouU7icHTej\",\n",
       " u'truncated': True,\n",
       " u'user': {u'contributors_enabled': False,\n",
       "  u'created_at': u'Wed Jun 16 03:40:03 +0000 2010',\n",
       "  u'default_profile': False,\n",
       "  u'default_profile_image': False,\n",
       "  u'description': u\"Hip Hop Canonist Rap with Hip Hop Talkx Host Hunnee #Tupac! Your #hiphop & R&B Talk Show! Got Flow? You're Booked! Streets Own Hip Hop! \\U0001f4e7\\xa0tdivv@hotmail.com\",\n",
       "  u'entities': {u'description': {u'urls': []},\n",
       "   u'url': {u'urls': [{u'display_url': u'youtube.com/c/HipHopTalkx',\n",
       "      u'expanded_url': u'https://www.youtube.com/c/HipHopTalkx',\n",
       "      u'indices': [0, 23],\n",
       "      u'url': u'https://t.co/ZSOXft1mID'}]}},\n",
       "  u'favourites_count': 27740,\n",
       "  u'follow_request_sent': False,\n",
       "  u'followers_count': 4446,\n",
       "  u'following': False,\n",
       "  u'friends_count': 3742,\n",
       "  u'geo_enabled': False,\n",
       "  u'has_extended_profile': False,\n",
       "  u'id': 156140361,\n",
       "  u'id_str': u'156140361',\n",
       "  u'is_translation_enabled': False,\n",
       "  u'is_translator': False,\n",
       "  u'lang': u'en',\n",
       "  u'listed_count': 97,\n",
       "  u'location': u'Cleveland, OH',\n",
       "  u'name': u'Hip Hop Talkx!',\n",
       "  u'notifications': False,\n",
       "  u'profile_background_color': u'000000',\n",
       "  u'profile_background_image_url': u'http://pbs.twimg.com/profile_background_images/465124783382736897/XOtkUlHc.jpeg',\n",
       "  u'profile_background_image_url_https': u'https://pbs.twimg.com/profile_background_images/465124783382736897/XOtkUlHc.jpeg',\n",
       "  u'profile_background_tile': False,\n",
       "  u'profile_banner_url': u'https://pbs.twimg.com/profile_banners/156140361/1514364111',\n",
       "  u'profile_image_url': u'http://pbs.twimg.com/profile_images/717181080491560960/5amFYqBr_normal.jpg',\n",
       "  u'profile_image_url_https': u'https://pbs.twimg.com/profile_images/717181080491560960/5amFYqBr_normal.jpg',\n",
       "  u'profile_link_color': u'FAB81E',\n",
       "  u'profile_sidebar_border_color': u'000000',\n",
       "  u'profile_sidebar_fill_color': u'292924',\n",
       "  u'profile_text_color': u'2FC2EF',\n",
       "  u'profile_use_background_image': True,\n",
       "  u'protected': False,\n",
       "  u'screen_name': u'HipHopTalkx',\n",
       "  u'statuses_count': 30094,\n",
       "  u'time_zone': u'Eastern Time (US & Canada)',\n",
       "  u'translator_type': u'none',\n",
       "  u'url': u'https://t.co/ZSOXft1mID',\n",
       "  u'utc_offset': -18000,\n",
       "  u'verified': False}}"
      ]
     },
     "execution_count": 24,
     "metadata": {},
     "output_type": "execute_result"
    }
   ],
   "source": [
    "results[0]._json"
   ]
  },
  {
   "cell_type": "code",
   "execution_count": null,
   "metadata": {
    "collapsed": true
   },
   "outputs": [],
   "source": [
    ""
   ]
  }
 ],
 "metadata": {
  "anaconda-cloud": {},
  "kernelspec": {
   "display_name": "Python [default]",
   "language": "python",
   "name": "python2"
  },
  "language_info": {
   "codemirror_mode": {
    "name": "ipython",
    "version": 2.0
   },
   "file_extension": ".py",
   "mimetype": "text/x-python",
   "name": "python",
   "nbconvert_exporter": "python",
   "pygments_lexer": "ipython2",
   "version": "2.7.12"
  }
 },
 "nbformat": 4,
 "nbformat_minor": 0
}